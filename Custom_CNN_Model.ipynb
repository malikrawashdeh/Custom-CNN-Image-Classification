{
 "cells": [
  {
   "cell_type": "markdown",
   "metadata": {
    "id": "5IDVcLj2nyAM"
   },
   "source": [
    "# Convolutional Neural Networks\n",
    "## Image classification with CNNs\n",
    "### Author: Malik Rawashdeh\n",
    "### Date: 04/08/2024"
   ]
  },
  {
   "cell_type": "markdown",
   "metadata": {
    "id": "_4ygBu9OnyAN"
   },
   "source": [
    "### Data Loading and Exploration\n",
    "\n",
    "Below we will load the MNIST dataset using a custom dataloader and visualize some of the images in the dataset.\n"
   ]
  },
  {
   "cell_type": "code",
   "execution_count": 1,
   "metadata": {
    "colab": {
     "base_uri": "https://localhost:8080/"
    },
    "id": "gm_SZ0vLvqht",
    "outputId": "c4d4291a-e1cb-42b1-cb1b-97cf7f5ce445"
   },
   "outputs": [
    {
     "name": "stdout",
     "output_type": "stream",
     "text": [
      "Mounted at /content/drive\n"
     ]
    }
   ],
   "source": [
    "from google.colab import drive\n",
    "drive.mount('/content/drive')"
   ]
  },
  {
   "cell_type": "code",
   "execution_count": 2,
   "metadata": {
    "id": "9hqIA-g6nyAO"
   },
   "outputs": [],
   "source": [
    "# import the necessary packages\n",
    "import pandas as pd\n",
    "import numpy as np\n",
    "import matplotlib.pyplot as plt\n",
    "import seaborn as sns\n"
   ]
  },
  {
   "cell_type": "code",
   "execution_count": 3,
   "metadata": {
    "id": "gYVnpsASnyAP"
   },
   "outputs": [],
   "source": [
    "# import the necessary pytorch packages\n",
    "from PIL import Image\n",
    "import torch"
   ]
  },
  {
   "cell_type": "code",
   "execution_count": 4,
   "metadata": {
    "id": "bGnPjbO-nyAP"
   },
   "outputs": [],
   "source": [
    "\n",
    "from torch.utils.data import DataLoader\n",
    "from torchvision import datasets, transforms"
   ]
  },
  {
   "cell_type": "code",
   "execution_count": 5,
   "metadata": {
    "colab": {
     "base_uri": "https://localhost:8080/"
    },
    "id": "B7gWSWNjnyAP",
    "outputId": "ce6ffa60-3cf9-44bc-f2ba-d258dbb55e70"
   },
   "outputs": [
    {
     "name": "stdout",
     "output_type": "stream",
     "text": [
      "cuda\n"
     ]
    }
   ],
   "source": [
    "\"\"\"\n",
    "This function will load the data from the nparray objects and create a DataLoader object for the training data\n",
    "\n",
    "Parameters:\n",
    "    batch_size: the size of the batch that will be used for training\n",
    "    validation_size: the size of the validation set\n",
    "    x_train: the training data\n",
    "    y_train: the training labels\n",
    "    x_test: the testing data\n",
    "\"\"\"\n",
    "device    = torch.device('cuda' if torch.cuda.is_available() else 'cpu')\n",
    "print(device)\n",
    "def custome_dataloader(batch_size, validation_size, x_train, y_train, x_test):\n",
    "    data_transform = transforms.Compose([\n",
    "        # Flip the images randomly on the horizontal\n",
    "        # Turn the image into a torch.Tensor\n",
    "        transforms.Grayscale(num_output_channels=1), # convert the image to grayscale\n",
    "        transforms.RandomHorizontalFlip(), # randomly flip the image horizontally\n",
    "        transforms.ToTensor() # this also converts all pixel values from 0 to 255 to be between 0.0 and 1.0\n",
    "    ])\n",
    "    # convert image numpy arrays to float32\n",
    "    x_train = x_train.astype(np.float32)\n",
    "    x_test = x_test.astype(np.float32)\n",
    "\n",
    "    # tranform the data\n",
    "    # x_train = data_transform(x_train)\n",
    "    # y_train = data_transform(y_train)\n",
    "    # x_test = data_transform(x_test)\n",
    "\n",
    "    # convert the numpy arrays to PyTorch tensors and transform them\n",
    "    x_train = torch.tensor(x_train).to(device)\n",
    "    y_train = torch.tensor(y_train).to(device)\n",
    "    x_test = torch.tensor(x_test).to(device)\n",
    "\n",
    "    print(\"x_train shape: \", x_train.shape)\n",
    "    print(\"y_train shape: \", y_train.shape)\n",
    "    print(\"x_test shape: \", x_test.shape)\n",
    "\n",
    "\n",
    "\n",
    "\n",
    "\n",
    "    # create a DataLoader object for the training data\n",
    "    train_data_tensor = torch.utils.data.TensorDataset(x_train, y_train)\n",
    "    test_data_set = torch.utils.data.TensorDataset(x_test)\n",
    "\n",
    "    # split the training data into a training and validation set\n",
    "    num_validation = int(validation_size * len(train_data_tensor))\n",
    "\n",
    "    train_data_set, val_data_set = torch.utils.data.random_split(train_data_tensor, [len(train_data_tensor) - num_validation, num_validation])\n",
    "\n",
    "    train_loader = DataLoader(dataset=train_data_set, batch_size=batch_size, shuffle=True)\n",
    "\n",
    "    val_loader = DataLoader(dataset=val_data_set, batch_size=batch_size, shuffle=False)\n",
    "\n",
    "    test_loader = DataLoader(dataset=test_data_set, batch_size=batch_size, shuffle=False)\n",
    "\n",
    "    return train_loader, val_loader, test_loader\n",
    "\n",
    "\n"
   ]
  },
  {
   "cell_type": "code",
   "execution_count": 6,
   "metadata": {
    "colab": {
     "base_uri": "https://localhost:8080/"
    },
    "id": "M3goil9FnyAQ",
    "outputId": "23ec241a-3e2d-4172-f4cb-7386fe6229cb"
   },
   "outputs": [
    {
     "name": "stdout",
     "output_type": "stream",
     "text": [
      "The shape of the training data is: (60000, 784)\n",
      "The shape of the training labels is: (60000,)\n",
      "The shape of the test data is: (10000, 28, 28)\n"
     ]
    }
   ],
   "source": [
    "# load the training data from .npy files\n",
    "y_train = np.load('./drive/MyDrive/y_train.npy')\n",
    "x_test = np.load('./drive/MyDrive/x_test.npy')\n",
    "x_train = np.load('./drive/MyDrive/x_train.npy')\n",
    "\n",
    "# check the shape of the data\n",
    "print(f\"The shape of the training data is: {x_train.shape}\")\n",
    "print(f\"The shape of the training labels is: {y_train.shape}\")\n",
    "print(f\"The shape of the test data is: {x_test.shape}\")\n"
   ]
  },
  {
   "cell_type": "code",
   "execution_count": 7,
   "metadata": {
    "colab": {
     "base_uri": "https://localhost:8080/"
    },
    "id": "h3atS2T5nyAR",
    "outputId": "a92b157e-5b8c-4e65-9a5f-be7212170c99"
   },
   "outputs": [
    {
     "name": "stdout",
     "output_type": "stream",
     "text": [
      "The data type of the training data is: float64\n",
      "The data type of the training labels is: int64\n",
      "The data type of the test data is: float64\n"
     ]
    }
   ],
   "source": [
    "# print the data types of the data\n",
    "print(f\"The data type of the training data is: {x_train.dtype}\")\n",
    "print(f\"The data type of the training labels is: {y_train.dtype}\")\n",
    "print(f\"The data type of the test data is: {x_test.dtype}\")"
   ]
  },
  {
   "cell_type": "markdown",
   "metadata": {
    "id": "1bTxuvzYnyAR"
   },
   "source": []
  },
  {
   "cell_type": "markdown",
   "metadata": {
    "id": "ofa3RMWcnyAR"
   },
   "source": [
    "### Data Shape\n",
    "From the shapes of the training and testing data, we can see that the training data has 60,000 images of size 28x28 pixels, while the testing data has 10,000 images of the same size.\n",
    "- The x_train array must be resized to 28x28 for each element in the array to be displayed as an image.\n",
    "- The x_test array is already in the correct shape."
   ]
  },
  {
   "cell_type": "code",
   "execution_count": 8,
   "metadata": {
    "id": "qTJVDMVpnyAS"
   },
   "outputs": [],
   "source": [
    "# reshape the x data\n",
    "x_train = x_train.reshape(-1, 28, 28)"
   ]
  },
  {
   "cell_type": "markdown",
   "metadata": {
    "id": "8tkX2zATnyAS"
   },
   "source": [
    "### Image Visualization and Digit distribution\n",
    "\n",
    "Below we will visualize the first example of each digit (0-9) in the training data and plot the distribution of the digits in the training data."
   ]
  },
  {
   "cell_type": "code",
   "execution_count": 9,
   "metadata": {
    "colab": {
     "base_uri": "https://localhost:8080/",
     "height": 473
    },
    "id": "Q9Z5Iw3EnyAS",
    "outputId": "7d4b6f9d-3d4b-4d62-932d-ac821d2e4435"
   },
   "outputs": [
    {
     "data": {
      "image/png": "[encoded data removed]",
      "text/plain": [
       "<Figure size 1000x500 with 10 Axes>"
      ]
     },
     "metadata": {},
     "output_type": "display_data"
    }
   ],
   "source": [
    "# Visualize one example from each digit category\n",
    "plt.figure(figsize=(10, 5))\n",
    "for i in range(10):\n",
    "    plt.subplot(2, 5, i + 1)\n",
    "    digit_index = np.where(y_train == i)[0][0]  # Find the index of the first occurrence of digit i\n",
    "    plt.imshow(x_train[digit_index], cmap='gray')\n",
    "    plt.title(f'Digit {i}')\n",
    "    plt.axis('off')\n",
    "plt.tight_layout()\n",
    "plt.show()"
   ]
  },
  {
   "cell_type": "code",
   "execution_count": 10,
   "metadata": {
    "colab": {
     "base_uri": "https://localhost:8080/",
     "height": 472
    },
    "id": "INlMfymUnyAU",
    "outputId": "d992d076-4fa6-4e63-b908-40e953ef4d34"
   },
   "outputs": [
    {
     "data": {
      "image/png": "[encoded data removed]",
      "text/plain": [
       "<Figure size 640x480 with 1 Axes>"
      ]
     },
     "metadata": {},
     "output_type": "display_data"
    }
   ],
   "source": [
    "# show the distribution of the labels\n",
    "# Assuming y_train is your target labels\n",
    "unique_digits, counts = np.unique(y_train, return_counts=True)\n",
    "\n",
    "plt.bar(unique_digits, counts)\n",
    "plt.xlabel('Digit')\n",
    "plt.ylabel('Count')\n",
    "plt.title('Number of Occurrences of Digits')\n",
    "plt.xticks(unique_digits)\n",
    "plt.grid(axis='y')\n",
    "plt.show()"
   ]
  },
  {
   "cell_type": "code",
   "execution_count": 11,
   "metadata": {
    "colab": {
     "base_uri": "https://localhost:8080/"
    },
    "id": "z8_nUEtpnyAU",
    "outputId": "7b1d7532-0730-49ba-dfb3-905d989eb728"
   },
   "outputs": [
    {
     "name": "stdout",
     "output_type": "stream",
     "text": [
      "Digit 0 count: 5923\n",
      "Digit 1 count: 6742\n",
      "Digit 2 count: 5958\n",
      "Digit 3 count: 6131\n",
      "Digit 4 count: 5842\n",
      "Digit 5 count: 5421\n",
      "Digit 6 count: 5918\n",
      "Digit 7 count: 6265\n",
      "Digit 8 count: 5851\n",
      "Digit 9 count: 5949\n",
      "Min digit count: 5421\n",
      "Max digit count: 6742\n",
      "Mean digit count: 6000.0\n"
     ]
    }
   ],
   "source": [
    "digit_cnt = np.bincount(y_train)\n",
    "for i in range(10):\n",
    "    print(f\"Digit {i} count: {digit_cnt[i]}\")\n",
    "\n",
    "# min, max and mean of the digit count\n",
    "print(f\"Min digit count: {np.min(digit_cnt)}\")\n",
    "print(f\"Max digit count: {np.max(digit_cnt)}\")\n",
    "print(f\"Mean digit count: {np.mean(digit_cnt)}\")"
   ]
  },
  {
   "cell_type": "markdown",
   "metadata": {
    "id": "36dNIwIqnyAV"
   },
   "source": [
    "### Digit Count Distribution\n",
    "From examining the y labels in the training data, we can see that the distribution of the digits is relatively uniform, with each digit appearing approximately 6000 times in the training data. This is important as it ensures that the model will be trained on a balanced dataset.\n",
    "\n",
    "While the count of each digit is not exactly 6000, the distribution is close enough to be considered uniform as it averages out to 6000."
   ]
  },
  {
   "cell_type": "markdown",
   "metadata": {
    "id": "0oa4XZCSnyAV"
   },
   "source": [
    "### Creating Loaders and Preprocessing\n",
    "In order to train the model, we need to create data loaders for the training and testing data. We will also normalize the data by dividing by 255 to scale the pixel values to the range [0,1].\n",
    "\n",
    "Since the images are grayscale, we will add a channel dimension to the images to make them compatible with the convolutional layers in the model."
   ]
  },
  {
   "cell_type": "code",
   "execution_count": 12,
   "metadata": {
    "colab": {
     "base_uri": "https://localhost:8080/"
    },
    "id": "bMQCQfMGnyAW",
    "outputId": "015c6afd-ab56-4bc9-c031-cf5cc3e6a4d6"
   },
   "outputs": [
    {
     "name": "stdout",
     "output_type": "stream",
     "text": [
      "The max pixel value in the training data is: 1.0\n"
     ]
    }
   ],
   "source": [
    "# find the max pixel value in the training data to see if the data is normalized\n",
    "max_pixel_value = np.max(x_train)\n",
    "print(f\"The max pixel value in the training data is: {max_pixel_value}\")"
   ]
  },
  {
   "cell_type": "markdown",
   "metadata": {
    "id": "Wh5WIVtANZgv"
   },
   "source": [
    "Since the max value of the pixels is 1, we do not need to divide by 255."
   ]
  },
  {
   "cell_type": "code",
   "execution_count": 13,
   "metadata": {
    "colab": {
     "base_uri": "https://localhost:8080/"
    },
    "id": "arqDfWiKnyAW",
    "outputId": "40d75683-a605-47eb-8afa-659dcdc3e7a9"
   },
   "outputs": [
    {
     "name": "stdout",
     "output_type": "stream",
     "text": [
      "The shape of the training data is: (60000, 1, 28, 28)\n",
      "The shape of the training labels is: (60000,)\n",
      "The shape of the test data is: (10000, 1, 28, 28)\n"
     ]
    }
   ],
   "source": [
    "# add a channel dimension to the data to make it compatible with PyTorch\n",
    "x_train = np.expand_dims(x_train, axis=1)\n",
    "x_test = np.expand_dims(x_test, axis=1)\n",
    "# check the shape of the data\n",
    "print(f\"The shape of the training data is: {x_train.shape}\")\n",
    "print(f\"The shape of the training labels is: {y_train.shape}\")\n",
    "print(f\"The shape of the test data is: {x_test.shape}\")"
   ]
  },
  {
   "cell_type": "code",
   "execution_count": 14,
   "metadata": {
    "colab": {
     "base_uri": "https://localhost:8080/"
    },
    "id": "LLK38DRmnyAX",
    "outputId": "a6922116-5984-4006-c2d9-809e8bd62f4a"
   },
   "outputs": [
    {
     "name": "stdout",
     "output_type": "stream",
     "text": [
      "x_train shape:  torch.Size([60000, 1, 28, 28])\n",
      "y_train shape:  torch.Size([60000])\n",
      "x_test shape:  torch.Size([10000, 1, 28, 28])\n"
     ]
    }
   ],
   "source": [
    "train_loader, validation_loader, test_loader = custome_dataloader(64, 0.2, x_train, y_train, x_test)"
   ]
  },
  {
   "cell_type": "code",
   "execution_count": 15,
   "metadata": {
    "colab": {
     "base_uri": "https://localhost:8080/"
    },
    "id": "I2buHqNGnyAX",
    "outputId": "473cbafe-b14b-4c71-fc5d-9920efed5cf5"
   },
   "outputs": [
    {
     "name": "stdout",
     "output_type": "stream",
     "text": [
      "The number of batches in the training data is: 750\n",
      "The number of batches in the validation data is: 188\n",
      "The number of batches in the test data is: 157\n",
      "Training Loader example shape\n",
      "X shape: torch.Size([64, 1, 28, 28]); y shape: torch.Size([64])\n"
     ]
    }
   ],
   "source": [
    "# print the number of batches in the training and validation data\n",
    "print(f\"The number of batches in the training data is: {len(train_loader)}\")\n",
    "print(f\"The number of batches in the validation data is: {len(validation_loader)}\")\n",
    "print(f\"The number of batches in the test data is: {len(test_loader)}\")\n",
    "\n",
    "X, y = next(iter(train_loader))\n",
    "print(\"Training Loader example shape\")\n",
    "print(f\"X shape: {X.shape}; y shape: {y.shape}\")"
   ]
  },
  {
   "cell_type": "markdown",
   "metadata": {
    "id": "vrk8sOETOgt4"
   },
   "source": [
    "Now we will check the shape of the test loader iterables which will help later. As can be seen below we will have to unpack the torch tensors when we do predictions."
   ]
  },
  {
   "cell_type": "code",
   "execution_count": 16,
   "metadata": {
    "colab": {
     "base_uri": "https://localhost:8080/"
    },
    "id": "ymY27JtYOeoc",
    "outputId": "8d5f7c28-63c2-45c3-f362-f8324352fedb"
   },
   "outputs": [
    {
     "name": "stdout",
     "output_type": "stream",
     "text": [
      "len(X): 2\n",
      "shape of X: torch.Size([64, 1, 28, 28])\n"
     ]
    }
   ],
   "source": [
    "X = next(iter(train_loader))\n",
    "print(f\"len(X): {len(X)}\")\n",
    "print(f\"shape of X: {X[0].shape}\")"
   ]
  },
  {
   "cell_type": "code",
   "execution_count": 17,
   "metadata": {
    "id": "HynQQIlVnyAY"
   },
   "outputs": [],
   "source": [
    "import torch.nn as nn"
   ]
  },
  {
   "cell_type": "markdown",
   "metadata": {
    "id": "Ksm3pvF5nyAX"
   },
   "source": [
    "### CNN Model Archetecture and Training\n",
    "The CNN model consists of convolutional layers followed by max pooling layers, inputted activation functions, and fully connected layers. The model is trained using the Adam optimizer and cross-entropy loss function.\n",
    "\n",
    "The CNN model below is adapted from the week 11 discussions on Canvas. I augmented the model from canvas by adding params for the kernel size (ie filter size), the number of layers, and the drop out rate. I also added a validation loop to tune the hyperparameters.\n",
    "\n",
    "### Model Architecture\n",
    "The model will take in a 1 channel image of size 28x28 and pass it through at least 2 convolutional layers. In similar fashion to the Discussions posted on canvas, I establish `cnn_block` and `linear_block` classes. The output of the last cnn block is passed through a fully connected layer and then to a classification layer.\n",
    "\n",
    "The model allows tunable hyper parameters for:\n",
    "- the number of convolutional layers,\n",
    "- the filter/kernel size,\n",
    "- stride size,\n",
    "- and the dropout rate.\n",
    "### NOTE: Here when I refer to the number of convolutional `layers`, I am referring to the number of cnn blocks in the model. Each cnn block consists of 2 convolutional layers, 2 batch normalizations, and 2 activation function as is explained below\n",
    "Hence the number of convolutional layers is the num_cnn_layers * 2.\n",
    "The number of fully connected layers is the number of linear blocks * 2 in the model since each linear block consists of 2 fully connected layers and 2 activation functions.\n",
    "#### CNN Block\n",
    "The CNN block consists of the following layers:\n",
    "- Convolutional Layer: Applies a 2D convolution over an input signal composed of a 1 channel image of size 28x28. The convolutional layer is followed by a batch normalization layer.\n",
    "- Activation Function: Applies the inputted activation function (default ReLU) to the output of the convolutional layer.\n",
    "In order to ensure the same output size as the input, the padding is calculated as follows:\n",
    "- padding = (kernel_size - 1) / 2\n",
    "This ensures that the output size is the same as the input size.\n",
    "I also added a dropout layer after the fully connected layer to prevent overfitting.\n",
    "In the forward pass (ie the output of the block), I use the skip connection to add the input to the output of the convolutional layer.\n",
    "\n",
    "#### Linear Block\n",
    "The linear block consists of the following layers:\n",
    "- 2 Linear Layers: Applies a linear transformation to the incoming data.\n",
    "- Activation Function: Applies the inputted activation function (default ReLU) to the output of the linear layer.\n",
    "- Dropout Layer: Applies dropout to the output of the linear layer to prevent overfitting.\n",
    "\n"
   ]
  },
  {
   "cell_type": "code",
   "execution_count": 18,
   "metadata": {
    "id": "3QE45zh8nyAZ"
   },
   "outputs": [],
   "source": [
    "\n",
    "class cnn_block(nn.Module):\n",
    "    def __init__(self, in_channels=1, n_hidden=5, kernel_size=(2, 2), stride=1, activation_func=nn.ReLU(), dropout=0.2):\n",
    "        super().__init__()\n",
    "        # Calculate padding to maintain input size\n",
    "        # The value of padding = (k-1)/2 since (n+2padding-k+1) = n\n",
    "        # for [(n + 2padding) x (n + 2ppadding) input] * [(k x k) kernel] —> [(n x n) same input size].\n",
    "        padding = ((kernel_size[0] - 1) // 2, (kernel_size[1] - 1) // 2)\n",
    "        self.layers = nn.Sequential(\n",
    "            nn.Conv2d(in_channels=in_channels, out_channels=n_hidden, kernel_size=kernel_size, bias=False, padding=padding),\n",
    "            nn.BatchNorm2d(num_features=n_hidden),\n",
    "            activation_func,\n",
    "            nn.Dropout(p=dropout),\n",
    "            nn.Conv2d(in_channels=n_hidden, out_channels=in_channels, kernel_size=kernel_size, bias=False, padding=padding),\n",
    "            nn.BatchNorm2d(num_features=in_channels),\n",
    "            activation_func,\n",
    "            nn.Dropout(p=dropout))\n",
    "\n",
    "    def forward(self, x):\n",
    "        # residual + conv layers for skip connection\n",
    "        return x + self.layers(x)\n",
    "\n",
    "class linear_block(nn.Module):\n",
    "    def __init__(self, in_features, n_hidden, activation_func=nn.ReLU(), dropout=0.2):\n",
    "        super().__init__()\n",
    "        self.in_features = (in_features, n_hidden)\n",
    "        self.layers = nn.Sequential(\n",
    "            nn.Linear(in_features=in_features, out_features=n_hidden),\n",
    "            activation_func,\n",
    "            nn.Dropout(p=dropout),\n",
    "            nn.Linear(in_features=n_hidden, out_features=in_features),\n",
    "            activation_func,\n",
    "        )\n",
    "\n",
    "    def forward(self, x):\n",
    "        return x + self.layers(x)\n",
    "\n",
    "class CNNClassifier(nn.Module):\n",
    "    def __init__(\n",
    "                 self,\n",
    "                 in_channels=1,\n",
    "                 cnn_channels=5,\n",
    "                 linear_hidden=128,\n",
    "                 n_classes=10,\n",
    "                 kernel_size=(3, 3),\n",
    "                 stride=1,\n",
    "                 cnn_layers=3,\n",
    "                 activation_func=nn.ReLU(),\n",
    "                 dropout_rate=0.2\n",
    "                ):\n",
    "        super().__init__()\n",
    "        self.cnn_layers = nn.Sequential(\n",
    "            *[cnn_block(in_channels, cnn_channels, kernel_size, stride=stride, activation_func=activation_func, dropout=dropout_rate) for _ in range(cnn_layers)])\n",
    "\n",
    "        self.down_sample = nn.Conv2d(in_channels=in_channels, out_channels=1, kernel_size=(1, 1))\n",
    "\n",
    "        self.linear_layers = nn.Sequential(\n",
    "            linear_block(28 * 28, linear_hidden, activation_func=activation_func, dropout=dropout_rate),  # Adjusted input size for single-channel grayscale image\n",
    "            linear_block(28 * 28, linear_hidden, activation_func=activation_func, dropout=dropout_rate)  # Adjusted input size for single-channel grayscale image\n",
    "        )\n",
    "        # Output layer\n",
    "        self.last_layer = nn.Linear(28 * 28, n_classes)  # Adjusted input size for single-channel grayscale image\n",
    "\n",
    "        self.all = nn.Sequential(\n",
    "            self.cnn_layers,\n",
    "            self.down_sample,\n",
    "            nn.Flatten(),\n",
    "            self.linear_layers,\n",
    "            self.last_layer,\n",
    "        )\n",
    "\n",
    "    def forward(self, x):\n",
    "        return self.all(x)\n"
   ]
  },
  {
   "cell_type": "markdown",
   "metadata": {
    "id": "lH-CjXXcPKRQ"
   },
   "source": [
    "### Training the Model\n",
    "The model is trained using the Adam optimizer and cross-entropy loss function. The model is trained for a specified number of epochs and the training and validation loss and accuracy are recorded for each epoch. The model with the best validation accuracy is selected as the final model.\n",
    "\n",
    "Below is a function I created which will train the model and return the training and validation loss and accuracy for each epoch. The function takes in the model, training and validation data loaders, the number of epochs, and the learning rate as input parameters."
   ]
  },
  {
   "cell_type": "code",
   "execution_count": 19,
   "metadata": {
    "colab": {
     "base_uri": "https://localhost:8080/"
    },
    "id": "eQyOMiHSnyAZ",
    "outputId": "25c2b7c6-b9f9-45ac-fdda-46d26d2b397b"
   },
   "outputs": [
    {
     "name": "stdout",
     "output_type": "stream",
     "text": [
      "Training with device cuda\n"
     ]
    }
   ],
   "source": [
    "# Function to train the model\n",
    "from torch.optim import Adam\n",
    "from tqdm import tqdm\n",
    "loss_func = nn.CrossEntropyLoss().to(device)\n",
    "print(\"Training with device\", device)\n",
    "def train_model(model, train_loader, val_loader, num_epochs=10, learning_rate=1e-3):\n",
    "    optimizer = Adam(model.parameters(), lr=learning_rate)\n",
    "    avg_accuracy = 0\n",
    "    for epoch in tqdm(range(num_epochs)):\n",
    "        model.train()\n",
    "        epoch_train_loss = []\n",
    "        for images, labels in train_loader:\n",
    "            images, labels = images.to(device), labels.to(device)\n",
    "            # check the dimensions of the images\n",
    "            preds = model(images)\n",
    "\n",
    "            loss = loss_func(preds, labels)\n",
    "\n",
    "            optimizer.zero_grad()\n",
    "            loss.backward()\n",
    "            optimizer.step()\n",
    "            epoch_train_loss.append(loss.item())\n",
    "\n",
    "        # Validate the model\n",
    "        model.eval()\n",
    "        correct = 0\n",
    "        total = 0\n",
    "        epoch_val_loss = []\n",
    "        with torch.no_grad():\n",
    "            for images, labels in val_loader:\n",
    "                images, labels = images.to(device), labels.to(device)\n",
    "                preds = model(images)\n",
    "                loss = loss_func(preds, labels)\n",
    "                epoch_val_loss.append(loss.item())\n",
    "                _, predicted = torch.max(preds.data, 1)\n",
    "                total += labels.size(0)\n",
    "                correct += (predicted == labels).sum().item()\n",
    "\n",
    "        accuracy = correct / total\n",
    "        avg_accuracy += accuracy\n",
    "\n",
    "    return avg_accuracy / num_epochs\n"
   ]
  },
  {
   "cell_type": "markdown",
   "metadata": {
    "id": "szV04L4YQ1Qh"
   },
   "source": [
    "### Hyperparameter Tuning and Model Selection\n",
    "I will use the validation data to select the best hyperparameters for the model. I will test the following hyperparameters:\n",
    "- Number of Convolutional Layers: 2, 3\n",
    "- Activation Function: ReLU, Sigmoid\n",
    "- Filter Size: 3, 5\n",
    "- Dropout Rate: 0.2, 0.5\n",
    "- Stride: 1"
   ]
  },
  {
   "cell_type": "code",
   "execution_count": 20,
   "metadata": {
    "colab": {
     "base_uri": "https://localhost:8080/"
    },
    "id": "xzXLlRignyAa",
    "outputId": "d0e2bd18-1c75-4887-a2b1-a7d16b8f3e54"
   },
   "outputs": [
    {
     "name": "stdout",
     "output_type": "stream",
     "text": [
      "Training model with hyperparameters: (num_layers=2, activation=ReLU(), dropout=0.2, kernel_size=(3, 3), stride=1)\n"
     ]
    },
    {
     "name": "stderr",
     "output_type": "stream",
     "text": [
      "100%|██████████| 10/10 [00:46<00:00,  4.60s/it]\n"
     ]
    },
    {
     "name": "stdout",
     "output_type": "stream",
     "text": [
      "Accuracy: 0.9658, Hyperparameters: (num_layers=2, activation=ReLU(), dropout=0.2, kernel_size=(3, 3), stride=1)\n",
      "\n",
      "Training model with hyperparameters: (num_layers=2, activation=ReLU(), dropout=0.2, kernel_size=(5, 5), stride=1)\n"
     ]
    },
    {
     "name": "stderr",
     "output_type": "stream",
     "text": [
      "100%|██████████| 10/10 [00:42<00:00,  4.22s/it]\n"
     ]
    },
    {
     "name": "stdout",
     "output_type": "stream",
     "text": [
      "Accuracy: 0.9727, Hyperparameters: (num_layers=2, activation=ReLU(), dropout=0.2, kernel_size=(5, 5), stride=1)\n",
      "\n",
      "Training model with hyperparameters: (num_layers=2, activation=ReLU(), dropout=0.5, kernel_size=(3, 3), stride=1)\n"
     ]
    },
    {
     "name": "stderr",
     "output_type": "stream",
     "text": [
      "100%|██████████| 10/10 [00:39<00:00,  3.92s/it]\n"
     ]
    },
    {
     "name": "stdout",
     "output_type": "stream",
     "text": [
      "Accuracy: 0.9647, Hyperparameters: (num_layers=2, activation=ReLU(), dropout=0.5, kernel_size=(3, 3), stride=1)\n",
      "\n",
      "Training model with hyperparameters: (num_layers=2, activation=ReLU(), dropout=0.5, kernel_size=(5, 5), stride=1)\n"
     ]
    },
    {
     "name": "stderr",
     "output_type": "stream",
     "text": [
      "100%|██████████| 10/10 [00:40<00:00,  4.00s/it]\n"
     ]
    },
    {
     "name": "stdout",
     "output_type": "stream",
     "text": [
      "Accuracy: 0.9663, Hyperparameters: (num_layers=2, activation=ReLU(), dropout=0.5, kernel_size=(5, 5), stride=1)\n",
      "\n",
      "Training model with hyperparameters: (num_layers=2, activation=Sigmoid(), dropout=0.2, kernel_size=(3, 3), stride=1)\n"
     ]
    },
    {
     "name": "stderr",
     "output_type": "stream",
     "text": [
      "100%|██████████| 10/10 [00:39<00:00,  3.91s/it]\n"
     ]
    },
    {
     "name": "stdout",
     "output_type": "stream",
     "text": [
      "Accuracy: 0.9643, Hyperparameters: (num_layers=2, activation=Sigmoid(), dropout=0.2, kernel_size=(3, 3), stride=1)\n",
      "\n",
      "Training model with hyperparameters: (num_layers=2, activation=Sigmoid(), dropout=0.2, kernel_size=(5, 5), stride=1)\n"
     ]
    },
    {
     "name": "stderr",
     "output_type": "stream",
     "text": [
      "100%|██████████| 10/10 [00:38<00:00,  3.90s/it]\n"
     ]
    },
    {
     "name": "stdout",
     "output_type": "stream",
     "text": [
      "Accuracy: 0.9630, Hyperparameters: (num_layers=2, activation=Sigmoid(), dropout=0.2, kernel_size=(5, 5), stride=1)\n",
      "\n",
      "Training model with hyperparameters: (num_layers=2, activation=Sigmoid(), dropout=0.5, kernel_size=(3, 3), stride=1)\n"
     ]
    },
    {
     "name": "stderr",
     "output_type": "stream",
     "text": [
      "100%|██████████| 10/10 [00:39<00:00,  3.92s/it]\n"
     ]
    },
    {
     "name": "stdout",
     "output_type": "stream",
     "text": [
      "Accuracy: 0.9440, Hyperparameters: (num_layers=2, activation=Sigmoid(), dropout=0.5, kernel_size=(3, 3), stride=1)\n",
      "\n",
      "Training model with hyperparameters: (num_layers=2, activation=Sigmoid(), dropout=0.5, kernel_size=(5, 5), stride=1)\n"
     ]
    },
    {
     "name": "stderr",
     "output_type": "stream",
     "text": [
      "100%|██████████| 10/10 [00:39<00:00,  3.92s/it]\n"
     ]
    },
    {
     "name": "stdout",
     "output_type": "stream",
     "text": [
      "Accuracy: 0.9560, Hyperparameters: (num_layers=2, activation=Sigmoid(), dropout=0.5, kernel_size=(5, 5), stride=1)\n",
      "\n",
      "Training model with hyperparameters: (num_layers=3, activation=ReLU(), dropout=0.2, kernel_size=(3, 3), stride=1)\n"
     ]
    },
    {
     "name": "stderr",
     "output_type": "stream",
     "text": [
      "100%|██████████| 10/10 [00:46<00:00,  4.68s/it]\n"
     ]
    },
    {
     "name": "stdout",
     "output_type": "stream",
     "text": [
      "Accuracy: 0.9698, Hyperparameters: (num_layers=3, activation=ReLU(), dropout=0.2, kernel_size=(3, 3), stride=1)\n",
      "\n",
      "Training model with hyperparameters: (num_layers=3, activation=ReLU(), dropout=0.2, kernel_size=(5, 5), stride=1)\n"
     ]
    },
    {
     "name": "stderr",
     "output_type": "stream",
     "text": [
      "100%|██████████| 10/10 [00:46<00:00,  4.63s/it]\n"
     ]
    },
    {
     "name": "stdout",
     "output_type": "stream",
     "text": [
      "Accuracy: 0.9782, Hyperparameters: (num_layers=3, activation=ReLU(), dropout=0.2, kernel_size=(5, 5), stride=1)\n",
      "\n",
      "Training model with hyperparameters: (num_layers=3, activation=ReLU(), dropout=0.5, kernel_size=(3, 3), stride=1)\n"
     ]
    },
    {
     "name": "stderr",
     "output_type": "stream",
     "text": [
      "100%|██████████| 10/10 [00:46<00:00,  4.67s/it]\n"
     ]
    },
    {
     "name": "stdout",
     "output_type": "stream",
     "text": [
      "Accuracy: 0.9555, Hyperparameters: (num_layers=3, activation=ReLU(), dropout=0.5, kernel_size=(3, 3), stride=1)\n",
      "\n",
      "Training model with hyperparameters: (num_layers=3, activation=ReLU(), dropout=0.5, kernel_size=(5, 5), stride=1)\n"
     ]
    },
    {
     "name": "stderr",
     "output_type": "stream",
     "text": [
      "100%|██████████| 10/10 [00:47<00:00,  4.73s/it]\n"
     ]
    },
    {
     "name": "stdout",
     "output_type": "stream",
     "text": [
      "Accuracy: 0.9524, Hyperparameters: (num_layers=3, activation=ReLU(), dropout=0.5, kernel_size=(5, 5), stride=1)\n",
      "\n",
      "Training model with hyperparameters: (num_layers=3, activation=Sigmoid(), dropout=0.2, kernel_size=(3, 3), stride=1)\n"
     ]
    },
    {
     "name": "stderr",
     "output_type": "stream",
     "text": [
      "100%|██████████| 10/10 [00:45<00:00,  4.55s/it]\n"
     ]
    },
    {
     "name": "stdout",
     "output_type": "stream",
     "text": [
      "Accuracy: 0.9672, Hyperparameters: (num_layers=3, activation=Sigmoid(), dropout=0.2, kernel_size=(3, 3), stride=1)\n",
      "\n",
      "Training model with hyperparameters: (num_layers=3, activation=Sigmoid(), dropout=0.2, kernel_size=(5, 5), stride=1)\n"
     ]
    },
    {
     "name": "stderr",
     "output_type": "stream",
     "text": [
      "100%|██████████| 10/10 [00:46<00:00,  4.67s/it]\n"
     ]
    },
    {
     "name": "stdout",
     "output_type": "stream",
     "text": [
      "Accuracy: 0.9590, Hyperparameters: (num_layers=3, activation=Sigmoid(), dropout=0.2, kernel_size=(5, 5), stride=1)\n",
      "\n",
      "Training model with hyperparameters: (num_layers=3, activation=Sigmoid(), dropout=0.5, kernel_size=(3, 3), stride=1)\n"
     ]
    },
    {
     "name": "stderr",
     "output_type": "stream",
     "text": [
      "100%|██████████| 10/10 [00:45<00:00,  4.56s/it]\n"
     ]
    },
    {
     "name": "stdout",
     "output_type": "stream",
     "text": [
      "Accuracy: 0.9408, Hyperparameters: (num_layers=3, activation=Sigmoid(), dropout=0.5, kernel_size=(3, 3), stride=1)\n",
      "\n",
      "Training model with hyperparameters: (num_layers=3, activation=Sigmoid(), dropout=0.5, kernel_size=(5, 5), stride=1)\n"
     ]
    },
    {
     "name": "stderr",
     "output_type": "stream",
     "text": [
      "100%|██████████| 10/10 [00:46<00:00,  4.69s/it]"
     ]
    },
    {
     "name": "stdout",
     "output_type": "stream",
     "text": [
      "Accuracy: 0.9571, Hyperparameters: (num_layers=3, activation=Sigmoid(), dropout=0.5, kernel_size=(5, 5), stride=1)\n",
      "\n",
      "Best hyperparameters: {'num_layers': 3, 'activation': ReLU(), 'dropout': 0.2, 'kernel_size': (5, 5), 'stride': 1}\n",
      "Best validation accuracy: 0.9782249999999999\n"
     ]
    },
    {
     "name": "stderr",
     "output_type": "stream",
     "text": [
      "\n"
     ]
    }
   ],
   "source": [
    "\n",
    "# Define hyperparameters to search\n",
    "num_layers_list = [2, 3]\n",
    "activation_list = [nn.ReLU(), nn.Sigmoid()]\n",
    "dropout_list = [0.2, 0.5]\n",
    "kernel_sizes = [(3, 3), (5, 5)]\n",
    "strides = [1]\n",
    "models = {\n",
    "}\n",
    "sorted_models = []\n",
    "\n",
    "# Perform hyperparameter search\n",
    "best_accuracy = 0\n",
    "best_hyperparameters = None\n",
    "\n",
    "\n",
    "for num_layers in num_layers_list:\n",
    "    for activation in activation_list:\n",
    "        for dropout in dropout_list:\n",
    "            for filter_size in kernel_sizes:\n",
    "                for stride in strides:\n",
    "                    model = CNNClassifier(\n",
    "                        in_channels=1,\n",
    "                        cnn_channels=5,\n",
    "                        linear_hidden=128,\n",
    "                        n_classes=10,\n",
    "                        kernel_size=filter_size,\n",
    "                        stride=stride,\n",
    "                        cnn_layers=num_layers,\n",
    "                        activation_func=activation,\n",
    "                        dropout_rate=dropout\n",
    "                        ).to(device)\n",
    "                    print(f\"Training model with hyperparameters: (num_layers={num_layers}, activation={activation}, dropout={dropout}, kernel_size={filter_size}, stride={stride})\")\n",
    "                    cur_accuracy = train_model(model, train_loader, validation_loader)\n",
    "                    if cur_accuracy > best_accuracy:\n",
    "                        best_accuracy = cur_accuracy\n",
    "                        best_hyperparameters = {'num_layers': num_layers, 'activation': activation, 'dropout': dropout, 'kernel_size': filter_size, 'stride': stride}\n",
    "                    print(f'Accuracy: {cur_accuracy:.4f}, Hyperparameters: (num_layers={num_layers}, activation={activation}, dropout={dropout}, kernel_size={filter_size}, stride={stride})')\n",
    "                    print()\n",
    "                    models[(num_layers, activation, dropout, filter_size)] = model\n",
    "                    sorted_models.append((cur_accuracy, (num_layers, activation, dropout, filter_size, stride)))\n",
    "\n",
    "\n",
    "print('Best hyperparameters:', best_hyperparameters)\n",
    "print('Best validation accuracy:', best_accuracy)"
   ]
  },
  {
   "cell_type": "code",
   "execution_count": 21,
   "metadata": {
    "colab": {
     "base_uri": "https://localhost:8080/"
    },
    "id": "CHIWcIp4QW-R",
    "outputId": "080b2166-2b66-4e6a-bb77-4302e4127774"
   },
   "outputs": [
    {
     "name": "stdout",
     "output_type": "stream",
     "text": [
      "Best models ranked\n",
      "0. Accuracy: 0.9782, Num layers: 3, Activation: ReLU(), Dropout: 0.2, Kernel size: (5, 5), Stride: 1\n",
      "1. Accuracy: 0.9727, Num layers: 2, Activation: ReLU(), Dropout: 0.2, Kernel size: (5, 5), Stride: 1\n",
      "2. Accuracy: 0.9698, Num layers: 3, Activation: ReLU(), Dropout: 0.2, Kernel size: (3, 3), Stride: 1\n",
      "3. Accuracy: 0.9672, Num layers: 3, Activation: Sigmoid(), Dropout: 0.2, Kernel size: (3, 3), Stride: 1\n",
      "4. Accuracy: 0.9663, Num layers: 2, Activation: ReLU(), Dropout: 0.5, Kernel size: (5, 5), Stride: 1\n",
      "5. Accuracy: 0.9658, Num layers: 2, Activation: ReLU(), Dropout: 0.2, Kernel size: (3, 3), Stride: 1\n",
      "6. Accuracy: 0.9647, Num layers: 2, Activation: ReLU(), Dropout: 0.5, Kernel size: (3, 3), Stride: 1\n",
      "7. Accuracy: 0.9643, Num layers: 2, Activation: Sigmoid(), Dropout: 0.2, Kernel size: (3, 3), Stride: 1\n",
      "8. Accuracy: 0.9630, Num layers: 2, Activation: Sigmoid(), Dropout: 0.2, Kernel size: (5, 5), Stride: 1\n",
      "9. Accuracy: 0.9590, Num layers: 3, Activation: Sigmoid(), Dropout: 0.2, Kernel size: (5, 5), Stride: 1\n",
      "10. Accuracy: 0.9571, Num layers: 3, Activation: Sigmoid(), Dropout: 0.5, Kernel size: (5, 5), Stride: 1\n",
      "11. Accuracy: 0.9560, Num layers: 2, Activation: Sigmoid(), Dropout: 0.5, Kernel size: (5, 5), Stride: 1\n",
      "12. Accuracy: 0.9555, Num layers: 3, Activation: ReLU(), Dropout: 0.5, Kernel size: (3, 3), Stride: 1\n",
      "13. Accuracy: 0.9524, Num layers: 3, Activation: ReLU(), Dropout: 0.5, Kernel size: (5, 5), Stride: 1\n",
      "14. Accuracy: 0.9440, Num layers: 2, Activation: Sigmoid(), Dropout: 0.5, Kernel size: (3, 3), Stride: 1\n",
      "15. Accuracy: 0.9408, Num layers: 3, Activation: Sigmoid(), Dropout: 0.5, Kernel size: (3, 3), Stride: 1\n"
     ]
    }
   ],
   "source": [
    "sorted_models.sort(reverse=True)\n",
    "print(\"Best models ranked\")\n",
    "for i, (accuracy, hyperparameters) in enumerate(sorted_models):\n",
    "    print(f'{i}. Accuracy: {accuracy:.4f}, Num layers: {hyperparameters[0]}, Activation: {hyperparameters[1]}, Dropout: {hyperparameters[2]}, Kernel size: {hyperparameters[3]}, Stride: {hyperparameters[4]}')"
   ]
  },
  {
   "cell_type": "markdown",
   "metadata": {
    "id": "7N54Q20XQmyy"
   },
   "source": [
    "### Predict the test data based on the best model\n",
    "I use the best model found in the validation loop to predict the test data. I then save the predictions to a csv file for submission. To predict the image labels, I use the max value of the output of the model as the predicted label.\n",
    "\n",
    "I then convert the tensor to a numpy array and save it to a csv file."
   ]
  },
  {
   "cell_type": "code",
   "execution_count": 22,
   "metadata": {
    "colab": {
     "base_uri": "https://localhost:8080/"
    },
    "id": "HPkwQa_UnyAa",
    "outputId": "bcb53118-9261-481b-894d-8973f17a1c87"
   },
   "outputs": [
    {
     "name": "stdout",
     "output_type": "stream",
     "text": [
      "Predicted digit labels saved to 'Malik_Rawashdeh_Preds.csv'\n"
     ]
    }
   ],
   "source": [
    "# use the best model to predict the test data\n",
    "best_model = models[(best_hyperparameters['num_layers'], best_hyperparameters['activation'], best_hyperparameters['dropout'], best_hyperparameters['kernel_size'])]\n",
    "\n",
    "best_model.eval()\n",
    "# create\n",
    "preds = []\n",
    "\n",
    "with torch.no_grad():\n",
    "    for images in test_loader:\n",
    "        images = images[0].to(device)\n",
    "        output = best_model(images)\n",
    "        _, predicted = torch.max(output.data, 1)\n",
    "        preds.extend(predicted.cpu().numpy())\n",
    "\n",
    "# save the predictions to a csv file names Malik_Rawashdeh_Preds.csv\n",
    "preds = np.array(preds)\n",
    "pred_df = pd.DataFrame(preds, columns=['Predicted Label'])\n",
    "pred_df.to_csv('Malik_Rawashdeh_Preds.csv', index=False)\n",
    "print(\"Predicted digit labels saved to 'Malik_Rawashdeh_Preds.csv'\")\n"
   ]
  }
 ],
 "metadata": {
  "accelerator": "GPU",
  "colab": {
   "gpuType": "T4",
   "provenance": []
  },
  "kernelspec": {
   "display_name": "Python 3",
   "name": "python3"
  },
  "language_info": {
   "codemirror_mode": {
    "name": "ipython",
    "version": 3
   },
   "file_extension": ".py",
   "mimetype": "text/x-python",
   "name": "python",
   "nbconvert_exporter": "python",
   "pygments_lexer": "ipython3",
   "version": "3.11.7"
  }
 },
 "nbformat": 4,
 "nbformat_minor": 0
}
